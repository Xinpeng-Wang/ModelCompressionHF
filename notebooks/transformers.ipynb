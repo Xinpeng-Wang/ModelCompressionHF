{
 "cells": [
  {
   "cell_type": "code",
   "execution_count": 1,
   "metadata": {},
   "outputs": [],
   "source": [
    "import os\n",
    "os.chdir('/content/drive/MyDrive/keep/git/Pretrained-Language-Model/TinyBERT')"
   ]
  },
  {
   "cell_type": "code",
   "execution_count": 2,
   "metadata": {},
   "outputs": [],
   "source": [
    "import sys, os\n",
    "lib_path = '/content/drive/MyDrive/keep/git/Pretrained-Language-Model/TinyBERT/libs'\n",
    "\n",
    "nb_path = '/content/TinyBERT'\n",
    "# os.symlink(lib_path, nb_path)\n",
    "sys.path.insert(0,nb_path)"
   ]
  },
  {
   "cell_type": "markdown",
   "metadata": {},
   "source": [
    "Evaluation"
   ]
  },
  {
   "cell_type": "code",
   "execution_count": 16,
   "metadata": {},
   "outputs": [],
   "source": [
    "from transformer.modeling import TinyBertForSequenceClassification\n",
    "from transformer.tokenization import BertTokenizer\n",
    "import torch"
   ]
  },
  {
   "cell_type": "code",
   "execution_count": 15,
   "metadata": {},
   "outputs": [],
   "source": [
    "from task_distill import ColaProcessor, MnliProcessor, MnliMismatchedProcessor, MrpcProcessor, Sst2Processor, StsbProcessor,\\\n",
    "    QqpProcessor, QnliProcessor, RteProcessor, WnliProcessor, convert_examples_to_features, get_tensor_data, do_eval\n",
    "\n",
    "from torch.utils.data import (DataLoader, RandomSampler, SequentialSampler,\n",
    "                              TensorDataset)\n"
   ]
  },
  {
   "cell_type": "code",
   "execution_count": 25,
   "metadata": {},
   "outputs": [],
   "source": [
    "task_name = 'qnli'\n",
    "data_dir = '/content/drive/MyDrive/keep/datasets/glue_data/QNLI'\n",
    "model_dir = 'models/teachers-finetuned/qnli'\n",
    "eval_batch_size = 32"
   ]
  },
  {
   "cell_type": "code",
   "execution_count": 26,
   "metadata": {},
   "outputs": [
    {
     "name": "stdout",
     "output_type": "stream",
     "text": [
      "04/28 03:32:01 PM Model config {\n",
      "  \"_name_or_path\": \"/content/drive/MyDrive/keep/git/Pretrained-Language-Model/TinyBERT/models/bert-base-uncased/\",\n",
      "  \"architectures\": [\n",
      "    \"BertForSequenceClassification\"\n",
      "  ],\n",
      "  \"attention_probs_dropout_prob\": 0.1,\n",
      "  \"classifier_dropout\": null,\n",
      "  \"finetuning_task\": \"qnli\",\n",
      "  \"gradient_checkpointing\": false,\n",
      "  \"hidden_act\": \"gelu\",\n",
      "  \"hidden_dropout_prob\": 0.1,\n",
      "  \"hidden_size\": 768,\n",
      "  \"id2label\": {\n",
      "    \"0\": \"entailment\",\n",
      "    \"1\": \"not_entailment\"\n",
      "  },\n",
      "  \"initializer_range\": 0.02,\n",
      "  \"intermediate_size\": 3072,\n",
      "  \"label2id\": {\n",
      "    \"entailment\": 0,\n",
      "    \"not_entailment\": 1\n",
      "  },\n",
      "  \"layer_norm_eps\": 1e-12,\n",
      "  \"max_position_embeddings\": 512,\n",
      "  \"model_type\": \"bert\",\n",
      "  \"num_attention_heads\": 12,\n",
      "  \"num_hidden_layers\": 12,\n",
      "  \"pad_token_id\": 0,\n",
      "  \"position_embedding_type\": \"absolute\",\n",
      "  \"pre_trained\": \"\",\n",
      "  \"problem_type\": \"single_label_classification\",\n",
      "  \"torch_dtype\": \"float32\",\n",
      "  \"training\": \"\",\n",
      "  \"transformers_version\": \"4.18.0.dev0\",\n",
      "  \"type_vocab_size\": 2,\n",
      "  \"use_cache\": true,\n",
      "  \"vocab_size\": 30522\n",
      "}\n",
      "\n",
      "04/28 03:32:04 PM Loading model models/teachers-finetuned/qnli/pytorch_model.bin\n",
      "04/28 03:32:09 PM loading model...\n",
      "04/28 03:32:09 PM done!\n",
      "04/28 03:32:09 PM Weights of TinyBertForSequenceClassification not initialized from pretrained model: ['fit_dense.weight', 'fit_dense.bias']\n",
      "04/28 03:32:09 PM Weights from pretrained model not used in TinyBertForSequenceClassification: ['bert.embeddings.position_ids']\n",
      "04/28 03:32:09 PM Writing example 0 of 5463\n",
      "04/28 03:32:09 PM *** Example ***\n",
      "04/28 03:32:09 PM guid: dev_matched-0\n",
      "04/28 03:32:09 PM tokens: [CLS] what came into force after the new constitution was herald ? [SEP] as of that day , the new constitution herald ##ing the second republic came into force . [SEP]\n",
      "04/28 03:32:09 PM input_ids: 101 2054 2234 2046 2486 2044 1996 2047 4552 2001 9536 1029 102 2004 1997 2008 2154 1010 1996 2047 4552 9536 2075 1996 2117 3072 2234 2046 2486 1012 102 0 0 0 0 0 0 0 0 0 0 0 0 0 0 0 0 0 0 0 0 0 0 0 0 0 0 0 0 0 0 0 0 0 0 0 0 0 0 0 0 0 0 0 0 0 0 0 0 0 0 0 0 0 0 0 0 0 0 0 0 0 0 0 0 0 0 0 0 0 0 0 0 0 0 0 0 0 0 0 0 0 0 0 0 0 0 0 0 0 0 0 0 0 0 0 0 0\n",
      "04/28 03:32:09 PM input_mask: 1 1 1 1 1 1 1 1 1 1 1 1 1 1 1 1 1 1 1 1 1 1 1 1 1 1 1 1 1 1 1 0 0 0 0 0 0 0 0 0 0 0 0 0 0 0 0 0 0 0 0 0 0 0 0 0 0 0 0 0 0 0 0 0 0 0 0 0 0 0 0 0 0 0 0 0 0 0 0 0 0 0 0 0 0 0 0 0 0 0 0 0 0 0 0 0 0 0 0 0 0 0 0 0 0 0 0 0 0 0 0 0 0 0 0 0 0 0 0 0 0 0 0 0 0 0 0 0\n",
      "04/28 03:32:09 PM segment_ids: 0 0 0 0 0 0 0 0 0 0 0 0 0 1 1 1 1 1 1 1 1 1 1 1 1 1 1 1 1 1 1 0 0 0 0 0 0 0 0 0 0 0 0 0 0 0 0 0 0 0 0 0 0 0 0 0 0 0 0 0 0 0 0 0 0 0 0 0 0 0 0 0 0 0 0 0 0 0 0 0 0 0 0 0 0 0 0 0 0 0 0 0 0 0 0 0 0 0 0 0 0 0 0 0 0 0 0 0 0 0 0 0 0 0 0 0 0 0 0 0 0 0 0 0 0 0 0 0\n",
      "04/28 03:32:09 PM label: entailment\n",
      "04/28 03:32:09 PM label_id: 0\n"
     ]
    }
   ],
   "source": [
    "device = torch.device(\"cuda\" if torch.cuda.is_available()  else \"cpu\")\n",
    "\n",
    "processors = {\n",
    "        \"cola\": ColaProcessor,\n",
    "        \"mnli\": MnliProcessor,\n",
    "        \"mnli-mm\": MnliMismatchedProcessor,\n",
    "        \"mrpc\": MrpcProcessor,\n",
    "        \"sst-2\": Sst2Processor,\n",
    "        \"sts-b\": StsbProcessor,\n",
    "        \"qqp\": QqpProcessor,\n",
    "        \"qnli\": QnliProcessor,\n",
    "        \"rte\": RteProcessor,\n",
    "        \"wnli\": WnliProcessor\n",
    "    }\n",
    "\n",
    "output_modes = {\n",
    "        \"cola\": \"classification\",\n",
    "        \"mnli\": \"classification\",\n",
    "        \"mrpc\": \"classification\",\n",
    "        \"sst-2\": \"classification\",\n",
    "        \"sts-b\": \"regression\",\n",
    "        \"qqp\": \"classification\",\n",
    "        \"qnli\": \"classification\",\n",
    "        \"rte\": \"classification\",\n",
    "        \"wnli\": \"classification\"\n",
    "    }\n",
    "\n",
    "# intermediate distillation default parameters\n",
    "default_params = {\n",
    "        \"cola\": {\"num_train_epochs\": 50, \"max_seq_length\": 64},\n",
    "        \"mnli\": {\"num_train_epochs\": 5, \"max_seq_length\": 128},\n",
    "        \"mrpc\": {\"num_train_epochs\": 20, \"max_seq_length\": 128},\n",
    "        \"sst-2\": {\"num_train_epochs\": 10, \"max_seq_length\": 64},\n",
    "        \"sts-b\": {\"num_train_epochs\": 20, \"max_seq_length\": 128},\n",
    "        \"qqp\": {\"num_train_epochs\": 5, \"max_seq_length\": 128},\n",
    "        \"qnli\": {\"num_train_epochs\": 10, \"max_seq_length\": 128},\n",
    "        \"rte\": {\"num_train_epochs\": 20, \"max_seq_length\": 128}\n",
    "    }\n",
    "\n",
    "processor = processors[task_name]()\n",
    "output_mode = output_modes[task_name]\n",
    "label_list = processor.get_labels()\n",
    "max_seq_length = default_params[task_name][\"max_seq_length\"]\n",
    "num_labels = len(label_list)\n",
    "\n",
    "tokenizer = BertTokenizer.from_pretrained(model_dir)\n",
    "student_model = TinyBertForSequenceClassification.from_pretrained(model_dir, num_labels=num_labels)\n",
    "student_model.to(device)\n",
    "\n",
    "eval_examples = processor.get_dev_examples(data_dir)\n",
    "eval_features = convert_examples_to_features(eval_examples, label_list, max_seq_length, tokenizer, output_mode)\n",
    "eval_data, eval_labels = get_tensor_data(output_mode, eval_features)\n",
    "eval_sampler = SequentialSampler(eval_data)\n",
    "eval_dataloader = DataLoader(eval_data, sampler=eval_sampler, batch_size=eval_batch_size)"
   ]
  },
  {
   "cell_type": "code",
   "execution_count": 27,
   "metadata": {},
   "outputs": [
    {
     "name": "stderr",
     "output_type": "stream",
     "text": [
      "Evaluating: 100%|██████████| 171/171 [00:23<00:00,  7.28it/s]\n"
     ]
    }
   ],
   "source": [
    "result = do_eval(student_model, task_name, eval_dataloader,\n",
    "                                         device, output_mode, eval_labels, num_labels)"
   ]
  },
  {
   "cell_type": "code",
   "execution_count": 28,
   "metadata": {},
   "outputs": [
    {
     "data": {
      "text/plain": [
       "{'acc': 0.9084751967783269, 'eval_loss': 0.26494505735691526}"
      ]
     },
     "execution_count": 28,
     "metadata": {},
     "output_type": "execute_result"
    }
   ],
   "source": [
    "result"
   ]
  },
  {
   "cell_type": "code",
   "execution_count": null,
   "metadata": {},
   "outputs": [],
   "source": []
  }
 ],
 "metadata": {
  "interpreter": {
   "hash": "31f2aee4e71d21fbe5cf8b01ff0e069b9275f58929596ceb00d14d90e3e16cd6"
  },
  "kernelspec": {
   "display_name": "Python 3.7.13 64-bit",
   "language": "python",
   "name": "python3"
  },
  "language_info": {
   "codemirror_mode": {
    "name": "ipython",
    "version": 3
   },
   "file_extension": ".py",
   "mimetype": "text/x-python",
   "name": "python",
   "nbconvert_exporter": "python",
   "pygments_lexer": "ipython3",
   "version": "3.7.13"
  },
  "orig_nbformat": 4
 },
 "nbformat": 4,
 "nbformat_minor": 2
}
